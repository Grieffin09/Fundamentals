{
 "cells": [
  {
   "cell_type": "markdown",
   "id": "a50612cb",
   "metadata": {},
   "source": [
    "# NumPy arrays\n",
    "\n",
    "* a list of numbers will create a 1D array \n",
    "* a list of lists will create 2D array\n",
    "* Further nested list will create higher-dimensional arrays."
   ]
  },
  {
   "cell_type": "code",
   "execution_count": 32,
   "id": "30f70c94",
   "metadata": {},
   "outputs": [],
   "source": [
    "import numpy as np"
   ]
  },
  {
   "cell_type": "markdown",
   "id": "7592a8c2",
   "metadata": {},
   "source": [
    "### 1.Converting Python sequences to NumPy arrays"
   ]
  },
  {
   "cell_type": "code",
   "execution_count": 33,
   "id": "3fb3c56b",
   "metadata": {},
   "outputs": [
    {
     "data": {
      "text/plain": [
       "array([1, 2, 3, 4])"
      ]
     },
     "execution_count": 33,
     "metadata": {},
     "output_type": "execute_result"
    }
   ],
   "source": [
    "a1D=np.array([1,2,3,4])\n",
    "a2D=np.array([[1,2],[3,4]])\n",
    "a3D=np.array([[[1,2],[3,4]],[[5,6],[7,8]]])\n",
    "a1D\n"
   ]
  },
  {
   "cell_type": "code",
   "execution_count": 34,
   "id": "d76e1f34",
   "metadata": {},
   "outputs": [
    {
     "data": {
      "text/plain": [
       "array([[1, 2],\n",
       "       [3, 4]])"
      ]
     },
     "execution_count": 34,
     "metadata": {},
     "output_type": "execute_result"
    }
   ],
   "source": [
    "a2D\n"
   ]
  },
  {
   "cell_type": "code",
   "execution_count": 41,
   "id": "50610751",
   "metadata": {},
   "outputs": [
    {
     "data": {
      "text/plain": [
       "array([[[1, 2],\n",
       "        [3, 4]],\n",
       "\n",
       "       [[5, 6],\n",
       "        [7, 8]]])"
      ]
     },
     "execution_count": 41,
     "metadata": {},
     "output_type": "execute_result"
    }
   ],
   "source": [
    "a3D\n"
   ]
  },
  {
   "cell_type": "markdown",
   "id": "5c14b876",
   "metadata": {},
   "source": [
    "### 2.Intrinsic NumPy array creation functions\n",
    "\n",
    "#### 1D Array Creation\n"
   ]
  },
  {
   "cell_type": "code",
   "execution_count": 18,
   "id": "d7b726a3",
   "metadata": {},
   "outputs": [
    {
     "data": {
      "text/plain": [
       "[1, 2, 3, 4, 5, 6, 7, 8, 9]"
      ]
     },
     "execution_count": 18,
     "metadata": {},
     "output_type": "execute_result"
    }
   ],
   "source": [
    "list(range(1,10))"
   ]
  },
  {
   "cell_type": "code",
   "execution_count": 19,
   "id": "95335523",
   "metadata": {},
   "outputs": [
    {
     "ename": "TypeError",
     "evalue": "'float' object cannot be interpreted as an integer",
     "output_type": "error",
     "traceback": [
      "\u001b[1;31m---------------------------------------------------------------------------\u001b[0m",
      "\u001b[1;31mTypeError\u001b[0m                                 Traceback (most recent call last)",
      "Cell \u001b[1;32mIn[19], line 1\u001b[0m\n\u001b[1;32m----> 1\u001b[0m \u001b[38;5;28mlist\u001b[39m(\u001b[38;5;28mrange\u001b[39m(\u001b[38;5;241m1\u001b[39m,\u001b[38;5;241m10\u001b[39m,\u001b[38;5;241m2.1\u001b[39m))\n",
      "\u001b[1;31mTypeError\u001b[0m: 'float' object cannot be interpreted as an integer"
     ]
    }
   ],
   "source": [
    "list(range(1,10,2.1))"
   ]
  },
  {
   "cell_type": "code",
   "execution_count": 11,
   "id": "c8c6d9ca",
   "metadata": {},
   "outputs": [
    {
     "data": {
      "text/plain": [
       "array([0, 1, 2, 3, 4, 5, 6, 7, 8, 9])"
      ]
     },
     "execution_count": 11,
     "metadata": {},
     "output_type": "execute_result"
    }
   ],
   "source": [
    "np.arange(10)"
   ]
  },
  {
   "cell_type": "code",
   "execution_count": 12,
   "id": "9b6c8b37",
   "metadata": {},
   "outputs": [
    {
     "data": {
      "text/plain": [
       "array([2., 3., 4., 5., 6., 7., 8., 9.])"
      ]
     },
     "execution_count": 12,
     "metadata": {},
     "output_type": "execute_result"
    }
   ],
   "source": [
    "np.arange(2,10 , dtype=float)"
   ]
  },
  {
   "cell_type": "code",
   "execution_count": 13,
   "id": "42c6643f",
   "metadata": {},
   "outputs": [
    {
     "data": {
      "text/plain": [
       "array([2. , 2.1, 2.2, 2.3, 2.4, 2.5, 2.6, 2.7, 2.8, 2.9])"
      ]
     },
     "execution_count": 13,
     "metadata": {},
     "output_type": "execute_result"
    }
   ],
   "source": [
    "#best practice for numpy.arange is to use integer start, end, and step values\n",
    "\n",
    "np.arange(2,3,0.1)"
   ]
  },
  {
   "cell_type": "code",
   "execution_count": 20,
   "id": "9893e63b",
   "metadata": {
    "scrolled": true
   },
   "outputs": [
    {
     "data": {
      "text/plain": [
       "array([1.        , 1.06122449, 1.12244898, 1.18367347, 1.24489796,\n",
       "       1.30612245, 1.36734694, 1.42857143, 1.48979592, 1.55102041,\n",
       "       1.6122449 , 1.67346939, 1.73469388, 1.79591837, 1.85714286,\n",
       "       1.91836735, 1.97959184, 2.04081633, 2.10204082, 2.16326531,\n",
       "       2.2244898 , 2.28571429, 2.34693878, 2.40816327, 2.46938776,\n",
       "       2.53061224, 2.59183673, 2.65306122, 2.71428571, 2.7755102 ,\n",
       "       2.83673469, 2.89795918, 2.95918367, 3.02040816, 3.08163265,\n",
       "       3.14285714, 3.20408163, 3.26530612, 3.32653061, 3.3877551 ,\n",
       "       3.44897959, 3.51020408, 3.57142857, 3.63265306, 3.69387755,\n",
       "       3.75510204, 3.81632653, 3.87755102, 3.93877551, 4.        ])"
      ]
     },
     "execution_count": 20,
     "metadata": {},
     "output_type": "execute_result"
    }
   ],
   "source": [
    "\"\"\"The advantage of this creation function is that \n",
    "you guarantee the number of elements and the starting and end point\"\"\"\n",
    "np.linspace(1.,4.,50)"
   ]
  },
  {
   "cell_type": "code",
   "execution_count": 24,
   "id": "d35d0d2a",
   "metadata": {},
   "outputs": [
    {
     "data": {
      "text/plain": [
       "array([1.  , 1.06, 1.12, 1.18, 1.24, 1.3 , 1.36, 1.42, 1.48, 1.54, 1.6 ,\n",
       "       1.66, 1.72, 1.78, 1.84, 1.9 , 1.96, 2.02, 2.08, 2.14, 2.2 , 2.26,\n",
       "       2.32, 2.38, 2.44, 2.5 , 2.56, 2.62, 2.68, 2.74, 2.8 , 2.86, 2.92,\n",
       "       2.98, 3.04, 3.1 , 3.16, 3.22, 3.28, 3.34, 3.4 , 3.46, 3.52, 3.58,\n",
       "       3.64, 3.7 , 3.76, 3.82, 3.88, 3.94])"
      ]
     },
     "execution_count": 24,
     "metadata": {},
     "output_type": "execute_result"
    }
   ],
   "source": [
    "np.linspace(1.,4.,50,endpoint=False)"
   ]
  },
  {
   "cell_type": "markdown",
   "id": "6031d638",
   "metadata": {},
   "source": [
    "#### 2D array creation\n",
    "\n",
    "**(numpy.eye, numpy.diag, numpy.vander)**"
   ]
  },
  {
   "cell_type": "code",
   "execution_count": 6,
   "id": "58bc7eb9",
   "metadata": {},
   "outputs": [
    {
     "data": {
      "text/plain": [
       "array([[1., 0., 0.],\n",
       "       [0., 1., 0.],\n",
       "       [0., 0., 1.]])"
      ]
     },
     "execution_count": 6,
     "metadata": {},
     "output_type": "execute_result"
    }
   ],
   "source": [
    "# np.eye(n,m)- defines a 2D identity matrix.\n",
    "\n",
    "np.eye(3)"
   ]
  },
  {
   "cell_type": "code",
   "execution_count": 5,
   "id": "b878950c",
   "metadata": {},
   "outputs": [
    {
     "data": {
      "text/plain": [
       "array([[1, 0, 0, 0, 0],\n",
       "       [0, 1, 0, 0, 0],\n",
       "       [0, 0, 1, 0, 0]])"
      ]
     },
     "execution_count": 5,
     "metadata": {},
     "output_type": "execute_result"
    }
   ],
   "source": [
    "np.eye(3,5,dtype=int)"
   ]
  },
  {
   "cell_type": "code",
   "execution_count": 7,
   "id": "8cc304b4",
   "metadata": {},
   "outputs": [
    {
     "data": {
      "text/plain": [
       "array([[1, 0, 0],\n",
       "       [0, 2, 0],\n",
       "       [0, 0, 3]])"
      ]
     },
     "execution_count": 7,
     "metadata": {},
     "output_type": "execute_result"
    }
   ],
   "source": [
    "#define either a square 2D array with given values along the diagonal\n",
    "\n",
    "np.diag([1,2,3])"
   ]
  },
  {
   "cell_type": "code",
   "execution_count": 13,
   "id": "4e4fb378",
   "metadata": {},
   "outputs": [
    {
     "data": {
      "text/plain": [
       "array([[0, 1, 0, 0],\n",
       "       [0, 0, 2, 0],\n",
       "       [0, 0, 0, 3],\n",
       "       [0, 0, 0, 0]])"
      ]
     },
     "execution_count": 13,
     "metadata": {},
     "output_type": "execute_result"
    }
   ],
   "source": [
    "np.diag([1,2,3],1)"
   ]
  },
  {
   "cell_type": "code",
   "execution_count": 20,
   "id": "82e9e126",
   "metadata": {},
   "outputs": [
    {
     "name": "stdout",
     "output_type": "stream",
     "text": [
      "[[1 2]\n",
      " [3 4]]\n",
      "diagonal element of above array [1 4]\n"
     ]
    }
   ],
   "source": [
    "#if given a 2D array returns a 1D array that is only the diagonal elements\n",
    "\n",
    "print(a2D)\n",
    "print(\"diagonal element of above array\",np.diag(a2D))"
   ]
  },
  {
   "cell_type": "code",
   "execution_count": 23,
   "id": "ea21e086",
   "metadata": {},
   "outputs": [
    {
     "data": {
      "text/plain": [
       "array([[0.  , 0.  , 1.  ],\n",
       "       [0.25, 0.5 , 1.  ],\n",
       "       [1.  , 1.  , 1.  ],\n",
       "       [2.25, 1.5 , 1.  ],\n",
       "       [4.  , 2.  , 1.  ]])"
      ]
     },
     "execution_count": 23,
     "metadata": {},
     "output_type": "execute_result"
    }
   ],
   "source": [
    "np.vander(np.linspace(0,2,5),3)"
   ]
  },
  {
   "cell_type": "code",
   "execution_count": 2,
   "id": "014b67bf",
   "metadata": {},
   "outputs": [
    {
     "name": "stdout",
     "output_type": "stream",
     "text": [
      "Vandermonde matrix:\n",
      " [[ 0  0  0  1]\n",
      " [ 1  1  1  1]\n",
      " [ 8  4  2  1]\n",
      " [27  9  3  1]]\n",
      "Polynomial coefficients: [ 1.  -4.5  5.5  1. ]\n"
     ]
    },
    {
     "data": {
      "image/png": "[encoded data removed]",
      "text/plain": [
       "<Figure size 640x480 with 1 Axes>"
      ]
     },
     "metadata": {},
     "output_type": "display_data"
    }
   ],
   "source": [
    "import numpy as np\n",
    "import matplotlib.pyplot as plt\n",
    "\n",
    "# Given data points (x, y)\n",
    "x = np.array([0, 1, 2, 3])\n",
    "y = np.array([1, 3, 2, 4])\n",
    "\n",
    "\n",
    "# Construct the Vandermonde matrix\n",
    "V = np.vander(x)\n",
    "print(\"Vandermonde matrix:\\n\", V)\n",
    "\n",
    "\n",
    "# Solve the linear system V * a = y to find coefficients a\n",
    "coefficients = np.linalg.solve(V, y)\n",
    "print(\"Polynomial coefficients:\", coefficients)\n",
    "\n",
    "\n",
    "# Define the polynomial function using the coefficients\n",
    "def polynomial(x, coeffs):\n",
    "    n = len(coeffs)\n",
    "    return sum(coeffs[i] * x**(n-i-1) for i in range(n))\n",
    "\n",
    "# Generate x values for plotting\n",
    "x_plot = np.linspace(min(x), max(x), 100)\n",
    "y_plot = polynomial(x_plot, coefficients)\n",
    "\n",
    "# Plot the original data points and the polynomial interpolation\n",
    "plt.scatter(x, y, color='red', label='Data Points')\n",
    "plt.plot(x_plot, y_plot, label='Polynomial Interpolation')\n",
    "plt.xlabel('x')\n",
    "plt.ylabel('y')\n",
    "plt.legend()\n",
    "plt.title('Vandermonde Polynomial Interpolation')\n",
    "plt.show()"
   ]
  },
  {
   "cell_type": "markdown",
   "id": "5d109eec",
   "metadata": {},
   "source": [
    "### 3 - General ndarray creation functions"
   ]
  },
  {
   "cell_type": "code",
   "execution_count": 2,
   "id": "024fec61",
   "metadata": {},
   "outputs": [
    {
     "data": {
      "text/plain": [
       "array([[0., 0., 0.],\n",
       "       [0., 0., 0.]])"
      ]
     },
     "execution_count": 2,
     "metadata": {},
     "output_type": "execute_result"
    }
   ],
   "source": [
    "#np.zeros will create an array filled with 0 values with the specified shape\n",
    "\n",
    "np.zeros((2,3))"
   ]
  },
  {
   "cell_type": "code",
   "execution_count": 3,
   "id": "cd838bb5",
   "metadata": {},
   "outputs": [
    {
     "data": {
      "text/plain": [
       "array([[[0., 0.],\n",
       "        [0., 0.],\n",
       "        [0., 0.]],\n",
       "\n",
       "       [[0., 0.],\n",
       "        [0., 0.],\n",
       "        [0., 0.]]])"
      ]
     },
     "execution_count": 3,
     "metadata": {},
     "output_type": "execute_result"
    }
   ],
   "source": [
    "np.zeros((2, 3, 2))"
   ]
  },
  {
   "cell_type": "code",
   "execution_count": 4,
   "id": "c3f9d19f",
   "metadata": {},
   "outputs": [
    {
     "data": {
      "text/plain": [
       "array([[1., 1., 1.],\n",
       "       [1., 1., 1.]])"
      ]
     },
     "execution_count": 4,
     "metadata": {},
     "output_type": "execute_result"
    }
   ],
   "source": [
    "#np.ones will create an array filled with 1 values.\n",
    "\n",
    "np.ones((2,3))"
   ]
  },
  {
   "cell_type": "code",
   "execution_count": 5,
   "id": "5f70ae48",
   "metadata": {},
   "outputs": [
    {
     "data": {
      "text/plain": [
       "array([[[1., 1., 1.],\n",
       "        [1., 1., 1.]],\n",
       "\n",
       "       [[1., 1., 1.],\n",
       "        [1., 1., 1.]],\n",
       "\n",
       "       [[1., 1., 1.],\n",
       "        [1., 1., 1.]]])"
      ]
     },
     "execution_count": 5,
     "metadata": {},
     "output_type": "execute_result"
    }
   ],
   "source": [
    "np.ones((3,2,3))"
   ]
  },
  {
   "cell_type": "code",
   "execution_count": 4,
   "id": "bd9cfdab",
   "metadata": {},
   "outputs": [],
   "source": [
    "from numpy.random import default_rng"
   ]
  },
  {
   "cell_type": "code",
   "execution_count": 5,
   "id": "8260c2be",
   "metadata": {},
   "outputs": [
    {
     "data": {
      "text/plain": [
       "array([[0.8702492 , 0.28681721, 0.60314815],\n",
       "       [0.77753408, 0.71607463, 0.91538012]])"
      ]
     },
     "execution_count": 5,
     "metadata": {},
     "output_type": "execute_result"
    }
   ],
   "source": [
    "#will create an array filled with random values between 0 and 1\n",
    "\n",
    "default_rng(9).random((2,3))"
   ]
  },
  {
   "cell_type": "code",
   "execution_count": 9,
   "id": "8a3c8d6d",
   "metadata": {},
   "outputs": [
    {
     "data": {
      "text/plain": [
       "array([[18, 13],\n",
       "       [16, 10],\n",
       "       [10, 12]])"
      ]
     },
     "execution_count": 9,
     "metadata": {},
     "output_type": "execute_result"
    }
   ],
   "source": [
    "#to generate a matrix of random integers within a specific range.\n",
    "\n",
    "random_matrix=np.random.randint(10,20, size=(3,2))\n",
    "random_matrix"
   ]
  },
  {
   "cell_type": "code",
   "execution_count": 11,
   "id": "baa1de5b",
   "metadata": {
    "scrolled": true
   },
   "outputs": [
    {
     "data": {
      "text/plain": [
       "array([[[[0, 0],\n",
       "         [0, 0],\n",
       "         [0, 0]],\n",
       "\n",
       "        [[1, 1],\n",
       "         [1, 1],\n",
       "         [1, 1]],\n",
       "\n",
       "        [[2, 2],\n",
       "         [2, 2],\n",
       "         [2, 2]]],\n",
       "\n",
       "\n",
       "       [[[0, 0],\n",
       "         [1, 1],\n",
       "         [2, 2]],\n",
       "\n",
       "        [[0, 0],\n",
       "         [1, 1],\n",
       "         [2, 2]],\n",
       "\n",
       "        [[0, 0],\n",
       "         [1, 1],\n",
       "         [2, 2]]],\n",
       "\n",
       "\n",
       "       [[[0, 1],\n",
       "         [0, 1],\n",
       "         [0, 1]],\n",
       "\n",
       "        [[0, 1],\n",
       "         [0, 1],\n",
       "         [0, 1]],\n",
       "\n",
       "        [[0, 1],\n",
       "         [0, 1],\n",
       "         [0, 1]]]])"
      ]
     },
     "execution_count": 11,
     "metadata": {},
     "output_type": "execute_result"
    }
   ],
   "source": [
    "\"\"\"numpy.indices will create a set of arrays (stacked as a one-higher dimensioned array)\n",
    "one per dimension with each representing variation in that dimension\"\"\"\n",
    "\n",
    "np.indices((3,3,2))\n"
   ]
  },
  {
   "cell_type": "markdown",
   "id": "41186e84",
   "metadata": {},
   "source": [
    "### numpy.asarray\n"
   ]
  },
  {
   "cell_type": "code",
   "execution_count": 11,
   "id": "d800207e",
   "metadata": {},
   "outputs": [
    {
     "data": {
      "text/plain": [
       "array([[1, 2],\n",
       "       [3, 4]])"
      ]
     },
     "execution_count": 11,
     "metadata": {},
     "output_type": "execute_result"
    }
   ],
   "source": [
    "A=([1,2],[3,4])\n",
    "np.asarray(A)"
   ]
  },
  {
   "cell_type": "markdown",
   "id": "8e02cec3",
   "metadata": {},
   "source": [
    "### numpy.asanyarray"
   ]
  },
  {
   "cell_type": "code",
   "execution_count": 15,
   "id": "ac232156",
   "metadata": {},
   "outputs": [
    {
     "data": {
      "text/plain": [
       "matrix([[1, 2],\n",
       "        [3, 4]])"
      ]
     },
     "execution_count": 15,
     "metadata": {},
     "output_type": "execute_result"
    }
   ],
   "source": [
    "A_mat=np.mat(A)\n",
    "A_mat\n"
   ]
  },
  {
   "cell_type": "code",
   "execution_count": 16,
   "id": "ef250431",
   "metadata": {},
   "outputs": [
    {
     "data": {
      "text/plain": [
       "matrix([[1, 2],\n",
       "        [3, 4]])"
      ]
     },
     "execution_count": 16,
     "metadata": {},
     "output_type": "execute_result"
    }
   ],
   "source": [
    "\n",
    "np.asanyarray(A_mat)"
   ]
  },
  {
   "cell_type": "code",
   "execution_count": 17,
   "id": "ee5d2553",
   "metadata": {},
   "outputs": [
    {
     "data": {
      "text/plain": [
       "array([[1, 2],\n",
       "       [3, 4]])"
      ]
     },
     "execution_count": 17,
     "metadata": {},
     "output_type": "execute_result"
    }
   ],
   "source": [
    "np.asarray(A_mat)"
   ]
  },
  {
   "cell_type": "markdown",
   "id": "0ef23230",
   "metadata": {},
   "source": [
    "### 3. Replicating, joining or mutating existing arrays"
   ]
  },
  {
   "cell_type": "code",
   "execution_count": 2,
   "id": "47ec4181",
   "metadata": {},
   "outputs": [
    {
     "name": "stdout",
     "output_type": "stream",
     "text": [
      "a= [1 2 3 4] b= [2 3 4]\n"
     ]
    }
   ],
   "source": [
    "import numpy as np\n",
    "#numpy.copy\n",
    "\n",
    "\n",
    "a=np.array([1,2,3,4])\n",
    "b=a[:3].copy()\n",
    "b +=1\n",
    "print('a=',a, 'b=',b)\n"
   ]
  },
  {
   "cell_type": "code",
   "execution_count": 3,
   "id": "3c3ac287",
   "metadata": {},
   "outputs": [
    {
     "name": "stdout",
     "output_type": "stream",
     "text": [
      "[1 2 3 4]\n"
     ]
    }
   ],
   "source": [
    "a=np.array([1,2,3,4])\n",
    "print(a)"
   ]
  },
  {
   "cell_type": "code",
   "execution_count": 44,
   "id": "dc0902eb",
   "metadata": {},
   "outputs": [],
   "source": [
    "c=np.copy(b)"
   ]
  },
  {
   "cell_type": "code",
   "execution_count": 45,
   "id": "0e943657",
   "metadata": {},
   "outputs": [
    {
     "name": "stdout",
     "output_type": "stream",
     "text": [
      "a= [1 2 3 4] b= [100   3   4] c= [2 3 4]\n"
     ]
    }
   ],
   "source": [
    "b[0]=100\n",
    "print('a=',a, 'b=',b,'c=',c)"
   ]
  },
  {
   "cell_type": "markdown",
   "id": "c45bd46f",
   "metadata": {},
   "source": [
    "### numpy.fromfunction"
   ]
  },
  {
   "cell_type": "code",
   "execution_count": 46,
   "id": "c84de5d0",
   "metadata": {},
   "outputs": [],
   "source": [
    "#Construct an array by executing a function over eacg coordinate\n"
   ]
  },
  {
   "cell_type": "code",
   "execution_count": 47,
   "id": "f9aebe91",
   "metadata": {},
   "outputs": [
    {
     "data": {
      "text/plain": [
       "array([[ True, False, False],\n",
       "       [False,  True, False],\n",
       "       [False, False,  True]])"
      ]
     },
     "execution_count": 47,
     "metadata": {},
     "output_type": "execute_result"
    }
   ],
   "source": [
    "np.fromfunction(lambda i, j: i==j,(3,3),dtype=int)"
   ]
  },
  {
   "cell_type": "code",
   "execution_count": 48,
   "id": "ed7bec21",
   "metadata": {},
   "outputs": [
    {
     "data": {
      "text/plain": [
       "array([[[0, 0, 0],\n",
       "        [0, 0, 0],\n",
       "        [0, 0, 0]],\n",
       "\n",
       "       [[0, 0, 0],\n",
       "        [0, 1, 2],\n",
       "        [0, 2, 4]],\n",
       "\n",
       "       [[0, 0, 0],\n",
       "        [0, 2, 4],\n",
       "        [0, 4, 8]]])"
      ]
     },
     "execution_count": 48,
     "metadata": {},
     "output_type": "execute_result"
    }
   ],
   "source": [
    "np.fromfunction(lambda i,j,k: i*j*k, (3,3,3),dtype=int)"
   ]
  },
  {
   "cell_type": "markdown",
   "id": "e64b61aa",
   "metadata": {},
   "source": [
    "*Creating a new 1-D array from iterable object*"
   ]
  },
  {
   "cell_type": "code",
   "execution_count": 51,
   "id": "ce013e5a",
   "metadata": {},
   "outputs": [
    {
     "name": "stdout",
     "output_type": "stream",
     "text": [
      "<generator object <genexpr> at 0x000001DEAC44CA00>\n"
     ]
    }
   ],
   "source": [
    "iterable=(x*5 for x in range(1,11))\n",
    "print(iterable)"
   ]
  },
  {
   "cell_type": "code",
   "execution_count": 52,
   "id": "10ee5737",
   "metadata": {},
   "outputs": [
    {
     "data": {
      "text/plain": [
       "array([ 5, 10, 15, 20, 25, 30, 35, 40, 45, 50])"
      ]
     },
     "execution_count": 52,
     "metadata": {},
     "output_type": "execute_result"
    }
   ],
   "source": [
    "np.fromiter(iterable,int)"
   ]
  },
  {
   "cell_type": "markdown",
   "id": "199ec095",
   "metadata": {},
   "source": [
    "*Creating array from text data in a string*"
   ]
  },
  {
   "cell_type": "code",
   "execution_count": 30,
   "id": "88cd195b",
   "metadata": {},
   "outputs": [
    {
     "data": {
      "text/plain": [
       "array([ 1,  1,  2,  3,  4,  5, 66, 65])"
      ]
     },
     "execution_count": 30,
     "metadata": {},
     "output_type": "execute_result"
    }
   ],
   "source": [
    "numbr='1 1 2 3 4 5 66 65'\n",
    "strray=np.fromstring(numbr,dtype=int,sep=' ')\n",
    "strray"
   ]
  },
  {
   "cell_type": "markdown",
   "id": "e922a7a8",
   "metadata": {},
   "source": [
    "*Creating a record array from a list of arrays*"
   ]
  },
  {
   "cell_type": "code",
   "execution_count": 57,
   "id": "b693105e",
   "metadata": {},
   "outputs": [],
   "source": [
    "x1=np.array([1,2,3,4])\n",
    "x2=np.array([\"a\",'bb',\"ccc\",'dddd'])\n",
    "\n",
    "x3=np.array([1.1,2,3,4])\n",
    "x4=np.array([1.1,2,3,4])"
   ]
  },
  {
   "cell_type": "code",
   "execution_count": 58,
   "id": "de2744cc",
   "metadata": {},
   "outputs": [
    {
     "data": {
      "text/plain": [
       "numpy.ndarray"
      ]
     },
     "execution_count": 58,
     "metadata": {},
     "output_type": "execute_result"
    }
   ],
   "source": [
    "type(x2)"
   ]
  },
  {
   "cell_type": "code",
   "execution_count": 59,
   "id": "2f7a717a",
   "metadata": {},
   "outputs": [
    {
     "data": {
      "text/plain": [
       "rec.array([(1, 'a', 1.1, 1.1), (2, 'bb', 2. , 2. ), (3, 'ccc', 3. , 3. ),\n",
       "           (4, 'dddd', 4. , 4. )],\n",
       "          dtype=[('f0', '<i4'), ('f1', '<U4'), ('f2', '<f8'), ('f3', '<f8')])"
      ]
     },
     "execution_count": 59,
     "metadata": {},
     "output_type": "execute_result"
    }
   ],
   "source": [
    "rec=np.core.records.fromarrays([x1,x2,x3,x4])\n",
    "rec"
   ]
  },
  {
   "cell_type": "code",
   "execution_count": 65,
   "id": "5121d7a3",
   "metadata": {},
   "outputs": [
    {
     "name": "stdout",
     "output_type": "stream",
     "text": [
      "(2, 'bb', 2., 2.)\n",
      "2.0\n"
     ]
    }
   ],
   "source": [
    "print(rec[1])\n",
    "print(rec[1]['f3'])"
   ]
  },
  {
   "cell_type": "markdown",
   "id": "a486b165",
   "metadata": {},
   "source": [
    "### Data Types"
   ]
  },
  {
   "cell_type": "code",
   "execution_count": 7,
   "id": "709f5a37",
   "metadata": {},
   "outputs": [
    {
     "name": "stdout",
     "output_type": "stream",
     "text": [
      "Type of this object:  <class 'numpy.ndarray'>\n",
      "Here is the vector \n",
      "--------------\n",
      " [1 2 3]\n"
     ]
    }
   ],
   "source": [
    "my_list=[1,2,3]\n",
    "import numpy as np\n",
    "arr=np.array(my_list)\n",
    "print(\"Type of this object: \",type(arr))\n",
    "print(\"Here is the vector \\n--------------\\n\",arr)"
   ]
  },
  {
   "cell_type": "code",
   "execution_count": 17,
   "id": "7d2c0044",
   "metadata": {},
   "outputs": [
    {
     "name": "stdout",
     "output_type": "stream",
     "text": [
      "Type of this object:  <class 'numpy.ndarray'>\n",
      "Here is the matrix :\n",
      "--------------\n",
      " [[1.1 1.2 1.3]\n",
      " [2.1 2.2 2.3]\n",
      " [3.1 3.2 3.3]] \n",
      "--------------\n",
      "\n",
      "Dimension of this matrix : , 2\n",
      "Size of this matrix :  9\n",
      "Shape of this matrix :  (3, 3)\n",
      "Data Type of this matrix :  float64\n"
     ]
    }
   ],
   "source": [
    "my_mat=[[1.1,1.2,1.3],[2.1,2.2,2.3],[3.1,3.2,3.3]]\n",
    "mat=np.array(my_mat)\n",
    "print(\"Type of this object: \",type(mat))\n",
    "print(\"Here is the matrix :\\n--------------\\n\",mat,\"\\n--------------\\n\")\n",
    "print(\"Dimension of this matrix : \",mat.ndim, sep=' ') #ndim gives the dimension\n",
    "print(\"Size of this matrix : \",mat.size,sep=' ') #size gives the total no. of elements\n",
    "print(\"Shape of this matrix : \",mat.shape, sep=' ') #shape gives the no. of elements along each axes\n",
    "print(\"Data Type of this matrix : \",mat.dtype, sep=' ') #dtype givees the data type contained in the array\n",
    "\n"
   ]
  },
  {
   "cell_type": "markdown",
   "id": "13b6087a",
   "metadata": {},
   "source": [
    "### Revision"
   ]
  },
  {
   "cell_type": "code",
   "execution_count": 31,
   "id": "d9d8585d",
   "metadata": {},
   "outputs": [
    {
     "data": {
      "text/plain": [
       "array([[[10, 10, 10, 10, 10, 10, 10, 10],\n",
       "        [10, 10, 10, 10, 10, 10, 10, 10],\n",
       "        [10, 10, 10, 10, 10, 10, 10, 10],\n",
       "        [10, 10, 10, 10, 10, 10, 10, 10]],\n",
       "\n",
       "       [[10, 10, 10, 10, 10, 10, 10, 10],\n",
       "        [10, 10, 10, 10, 10, 10, 10, 10],\n",
       "        [10, 10, 10, 10, 10, 10, 10, 10],\n",
       "        [10, 10, 10, 10, 10, 10, 10, 10]],\n",
       "\n",
       "       [[10, 10, 10, 10, 10, 10, 10, 10],\n",
       "        [10, 10, 10, 10, 10, 10, 10, 10],\n",
       "        [10, 10, 10, 10, 10, 10, 10, 10],\n",
       "        [10, 10, 10, 10, 10, 10, 10, 10]]])"
      ]
     },
     "execution_count": 31,
     "metadata": {},
     "output_type": "execute_result"
    }
   ],
   "source": [
    "x=np.zeros((3,4,8),dtype=int)+5*2\n",
    "x"
   ]
  },
  {
   "cell_type": "code",
   "execution_count": 33,
   "id": "353ce0fd",
   "metadata": {},
   "outputs": [
    {
     "data": {
      "text/plain": [
       "array([4.        , 4.05063291, 4.10126582, 4.15189873, 4.20253165,\n",
       "       4.25316456, 4.30379747, 4.35443038, 4.40506329, 4.4556962 ,\n",
       "       4.50632911, 4.55696203, 4.60759494, 4.65822785, 4.70886076,\n",
       "       4.75949367, 4.81012658, 4.86075949, 4.91139241, 4.96202532,\n",
       "       5.01265823, 5.06329114, 5.11392405, 5.16455696, 5.21518987,\n",
       "       5.26582278, 5.3164557 , 5.36708861, 5.41772152, 5.46835443,\n",
       "       5.51898734, 5.56962025, 5.62025316, 5.67088608, 5.72151899,\n",
       "       5.7721519 , 5.82278481, 5.87341772, 5.92405063, 5.97468354,\n",
       "       6.02531646, 6.07594937, 6.12658228, 6.17721519, 6.2278481 ,\n",
       "       6.27848101, 6.32911392, 6.37974684, 6.43037975, 6.48101266,\n",
       "       6.53164557, 6.58227848, 6.63291139, 6.6835443 , 6.73417722,\n",
       "       6.78481013, 6.83544304, 6.88607595, 6.93670886, 6.98734177,\n",
       "       7.03797468, 7.08860759, 7.13924051, 7.18987342, 7.24050633,\n",
       "       7.29113924, 7.34177215, 7.39240506, 7.44303797, 7.49367089,\n",
       "       7.5443038 , 7.59493671, 7.64556962, 7.69620253, 7.74683544,\n",
       "       7.79746835, 7.84810127, 7.89873418, 7.94936709, 8.        ])"
      ]
     },
     "execution_count": 33,
     "metadata": {},
     "output_type": "execute_result"
    }
   ],
   "source": [
    " y=np.linspace(4,8,80)\n",
    "y"
   ]
  },
  {
   "cell_type": "code",
   "execution_count": 34,
   "id": "412c0d24",
   "metadata": {},
   "outputs": [
    {
     "data": {
      "text/plain": [
       "matrix([[4.        , 4.05063291, 4.10126582, 4.15189873, 4.20253165,\n",
       "         4.25316456, 4.30379747, 4.35443038, 4.40506329, 4.4556962 ,\n",
       "         4.50632911, 4.55696203, 4.60759494, 4.65822785, 4.70886076,\n",
       "         4.75949367, 4.81012658, 4.86075949, 4.91139241, 4.96202532,\n",
       "         5.01265823, 5.06329114, 5.11392405, 5.16455696, 5.21518987,\n",
       "         5.26582278, 5.3164557 , 5.36708861, 5.41772152, 5.46835443,\n",
       "         5.51898734, 5.56962025, 5.62025316, 5.67088608, 5.72151899,\n",
       "         5.7721519 , 5.82278481, 5.87341772, 5.92405063, 5.97468354,\n",
       "         6.02531646, 6.07594937, 6.12658228, 6.17721519, 6.2278481 ,\n",
       "         6.27848101, 6.32911392, 6.37974684, 6.43037975, 6.48101266,\n",
       "         6.53164557, 6.58227848, 6.63291139, 6.6835443 , 6.73417722,\n",
       "         6.78481013, 6.83544304, 6.88607595, 6.93670886, 6.98734177,\n",
       "         7.03797468, 7.08860759, 7.13924051, 7.18987342, 7.24050633,\n",
       "         7.29113924, 7.34177215, 7.39240506, 7.44303797, 7.49367089,\n",
       "         7.5443038 , 7.59493671, 7.64556962, 7.69620253, 7.74683544,\n",
       "         7.79746835, 7.84810127, 7.89873418, 7.94936709, 8.        ]])"
      ]
     },
     "execution_count": 34,
     "metadata": {},
     "output_type": "execute_result"
    }
   ],
   "source": [
    " np.mat(y)"
   ]
  },
  {
   "cell_type": "code",
   "execution_count": 46,
   "id": "a584c609",
   "metadata": {},
   "outputs": [
    {
     "name": "stdout",
     "output_type": "stream",
     "text": [
      "dimension 2\n",
      "shape (3, 1)\n",
      "data type int32\n"
     ]
    }
   ],
   "source": [
    "z=[[4],[5],[2]]\n",
    "zarr=np.array(z)\n",
    "print(\"dimension\",zarr.ndim)\n",
    "print('shape',zarr.shape)\n",
    "print('data type',zarr.dtype)"
   ]
  },
  {
   "cell_type": "markdown",
   "id": "18009db0",
   "metadata": {},
   "source": [
    "  #### numpy.reshape :\n",
    "  *Gives a new shape to an array without changing its data.*\n",
    "  "
   ]
  },
  {
   "cell_type": "code",
   "execution_count": 9,
   "id": "909660eb",
   "metadata": {},
   "outputs": [
    {
     "data": {
      "text/plain": [
       "array([ 0,  1,  2,  3,  4,  5,  6,  7,  8,  9, 10, 11, 12, 13, 14, 15])"
      ]
     },
     "execution_count": 9,
     "metadata": {},
     "output_type": "execute_result"
    }
   ],
   "source": [
    "import numpy as np\n",
    "np.arange(16)"
   ]
  },
  {
   "cell_type": "code",
   "execution_count": 10,
   "id": "d8a6fa77",
   "metadata": {},
   "outputs": [
    {
     "data": {
      "text/plain": [
       "array([[ 0,  1,  2,  3],\n",
       "       [ 4,  5,  6,  7],\n",
       "       [ 8,  9, 10, 11],\n",
       "       [12, 13, 14, 15]])"
      ]
     },
     "execution_count": 10,
     "metadata": {},
     "output_type": "execute_result"
    }
   ],
   "source": [
    "np.arange(16).reshape(-1,4)"
   ]
  },
  {
   "cell_type": "code",
   "execution_count": 11,
   "id": "f420d149",
   "metadata": {
    "scrolled": true
   },
   "outputs": [
    {
     "data": {
      "text/plain": [
       "array([[ 0,  1,  2,  3],\n",
       "       [ 4,  5,  6,  7],\n",
       "       [ 8,  9, 10, 11],\n",
       "       [12, 13, 14, 15]])"
      ]
     },
     "execution_count": 11,
     "metadata": {},
     "output_type": "execute_result"
    }
   ],
   "source": [
    "x=np.arange(16).reshape(4,4)\n",
    "x"
   ]
  },
  {
   "cell_type": "markdown",
   "id": "de092645",
   "metadata": {},
   "source": [
    "#### numpy.diag :\n",
    "*Extract a diagonal or construct a diagonal array.*"
   ]
  },
  {
   "cell_type": "code",
   "execution_count": 12,
   "id": "24e562a7",
   "metadata": {
    "scrolled": true
   },
   "outputs": [
    {
     "name": "stdout",
     "output_type": "stream",
     "text": [
      "[]\n",
      "[12]\n",
      "[ 8 13]\n",
      "[ 4  9 14]\n",
      "[ 0  5 10 15]\n",
      "[ 1  6 11]\n",
      "[2 7]\n",
      "[3]\n",
      "[]\n"
     ]
    }
   ],
   "source": [
    "print(np.diag(x,k=-4))\n",
    "\n",
    "print(np.diag(x,k=-3))\n",
    "\n",
    "print(np.diag(x,k=-2))\n",
    "\n",
    "print(np.diag(x,k=-1))\n",
    "\n",
    "print(np.diag(x,k=0))\n",
    "\n",
    "print(np.diag(x,k=1))\n",
    "\n",
    "print(np.diag(x,k=2))\n",
    "\n",
    "print(np.diag(x,k=3))\n",
    "\n",
    "print(np.diag(x,k=4))"
   ]
  },
  {
   "cell_type": "code",
   "execution_count": 13,
   "id": "7bb0ad0c",
   "metadata": {
    "scrolled": true
   },
   "outputs": [
    {
     "data": {
      "text/plain": [
       "array([[ 0,  0,  0,  0],\n",
       "       [ 0,  5,  0,  0],\n",
       "       [ 0,  0, 10,  0],\n",
       "       [ 0,  0,  0, 15]])"
      ]
     },
     "execution_count": 13,
     "metadata": {},
     "output_type": "execute_result"
    }
   ],
   "source": [
    "np.diag(np.diag(x))"
   ]
  },
  {
   "cell_type": "markdown",
   "id": "c792b92f",
   "metadata": {},
   "source": [
    "#### numpy.diagflat\n",
    "*Create a 2-D array with the flattened input as a diagonal.*"
   ]
  },
  {
   "cell_type": "code",
   "execution_count": 14,
   "id": "301e83d3",
   "metadata": {},
   "outputs": [
    {
     "data": {
      "text/plain": [
       "array([[0, 1, 0, 0, 0],\n",
       "       [0, 0, 2, 0, 0],\n",
       "       [0, 0, 0, 3, 0],\n",
       "       [0, 0, 0, 0, 4],\n",
       "       [0, 0, 0, 0, 0]])"
      ]
     },
     "execution_count": 14,
     "metadata": {},
     "output_type": "execute_result"
    }
   ],
   "source": [
    "np.diagflat([[1,2],[3,4]], k=1)"
   ]
  },
  {
   "cell_type": "code",
   "execution_count": 15,
   "id": "07969c8e",
   "metadata": {},
   "outputs": [
    {
     "data": {
      "text/plain": [
       "array([[0, 1, 0, 0, 0],\n",
       "       [0, 0, 2, 0, 0],\n",
       "       [0, 0, 0, 3, 0],\n",
       "       [0, 0, 0, 0, 4],\n",
       "       [0, 0, 0, 0, 0]])"
      ]
     },
     "execution_count": 15,
     "metadata": {},
     "output_type": "execute_result"
    }
   ],
   "source": [
    "np.diagflat([[1,2],[3,4]],1) #we need not to mention the k"
   ]
  },
  {
   "cell_type": "markdown",
   "id": "7c20a301",
   "metadata": {},
   "source": [
    "#### numpy.tri and tril / triu\n",
    "*An array with ones at and below the given diagonal and zeros elsewhere.*"
   ]
  },
  {
   "cell_type": "code",
   "execution_count": 16,
   "id": "e0682c31",
   "metadata": {},
   "outputs": [
    {
     "name": "stdout",
     "output_type": "stream",
     "text": [
      "[[1 0 0]\n",
      " [1 1 0]\n",
      " [1 1 1]]\n"
     ]
    }
   ],
   "source": [
    "print(np.tri(3,k=0,dtype=int))"
   ]
  },
  {
   "cell_type": "code",
   "execution_count": 17,
   "id": "f8e3a985",
   "metadata": {},
   "outputs": [
    {
     "data": {
      "text/plain": [
       "array([[1., 0., 0., 0., 0.],\n",
       "       [1., 1., 0., 0., 0.],\n",
       "       [1., 1., 1., 0., 0.],\n",
       "       [1., 1., 1., 1., 0.],\n",
       "       [1., 1., 1., 1., 1.]])"
      ]
     },
     "execution_count": 17,
     "metadata": {},
     "output_type": "execute_result"
    }
   ],
   "source": [
    "np.tri(5)"
   ]
  },
  {
   "cell_type": "code",
   "execution_count": 18,
   "id": "492d4161",
   "metadata": {},
   "outputs": [
    {
     "data": {
      "text/plain": [
       "array([[1, 2, 3],\n",
       "       [4, 5, 6],\n",
       "       [7, 8, 9]])"
      ]
     },
     "execution_count": 18,
     "metadata": {},
     "output_type": "execute_result"
    }
   ],
   "source": [
    "y=np.array([[1,2,3],[4,5,6],[7,8,9]])\n",
    "y"
   ]
  },
  {
   "cell_type": "code",
   "execution_count": 19,
   "id": "598e952c",
   "metadata": {},
   "outputs": [
    {
     "data": {
      "text/plain": [
       "array([[1, 0, 0],\n",
       "       [4, 5, 0],\n",
       "       [7, 8, 9]])"
      ]
     },
     "execution_count": 19,
     "metadata": {},
     "output_type": "execute_result"
    }
   ],
   "source": [
    "#return a lower triangle of the array\n",
    "\n",
    "np.tril(y)"
   ]
  },
  {
   "cell_type": "code",
   "execution_count": 20,
   "id": "cfc7472c",
   "metadata": {},
   "outputs": [
    {
     "data": {
      "text/plain": [
       "array([[1, 2, 3],\n",
       "       [0, 5, 6],\n",
       "       [0, 0, 9]])"
      ]
     },
     "execution_count": 20,
     "metadata": {},
     "output_type": "execute_result"
    }
   ],
   "source": [
    "#returns the upper triangle of the array\n",
    "\n",
    "np.triu(y)"
   ]
  },
  {
   "cell_type": "markdown",
   "id": "b9fcca49",
   "metadata": {},
   "source": [
    "### Random Number Generations"
   ]
  },
  {
   "cell_type": "markdown",
   "id": "b9d42dac",
   "metadata": {},
   "source": [
    "#### random.rand :\n",
    "*Random values in a given shape.*\n",
    "\n",
    "#### random.randn :\n",
    "*Return a sample (or samples) from the “standard normal” distribution.*\n",
    "\n",
    "#### random.randint :\n",
    "*Return random integers from low (inclusive) to high (exclusive).*"
   ]
  },
  {
   "cell_type": "code",
   "execution_count": 32,
   "id": "9477b195",
   "metadata": {},
   "outputs": [
    {
     "data": {
      "text/plain": [
       "array([[[ 0.56951442,  0.19265097,  0.94849408, -0.43471586],\n",
       "        [-1.20117601,  0.44135993, -0.32370762, -0.27135399],\n",
       "        [-1.22586146,  0.25658716, -0.79565803,  0.51803828]],\n",
       "\n",
       "       [[-4.21684889, -0.16554812, -0.26547557,  1.12024563],\n",
       "        [ 0.46666158, -0.07053121, -1.2209767 , -0.13410018],\n",
       "        [-0.04442684, -0.90679802, -1.63195058,  1.42396658]]])"
      ]
     },
     "execution_count": 32,
     "metadata": {},
     "output_type": "execute_result"
    }
   ],
   "source": [
    "np.random.randn(2,3,4)"
   ]
  },
  {
   "cell_type": "code",
   "execution_count": 31,
   "id": "869e68de",
   "metadata": {},
   "outputs": [
    {
     "data": {
      "text/plain": [
       "array([[3, 4, 7],\n",
       "       [2, 8, 9],\n",
       "       [6, 2, 7]])"
      ]
     },
     "execution_count": 31,
     "metadata": {},
     "output_type": "execute_result"
    }
   ],
   "source": [
    "np.random.randint(1,10,(3,3))"
   ]
  },
  {
   "cell_type": "markdown",
   "id": "57a93fa7",
   "metadata": {},
   "source": [
    "### Reshaping"
   ]
  },
  {
   "cell_type": "code",
   "execution_count": 10,
   "id": "7c17778d",
   "metadata": {},
   "outputs": [],
   "source": [
    "from numpy.random import randint as ri"
   ]
  },
  {
   "cell_type": "code",
   "execution_count": 39,
   "id": "2c6d3455",
   "metadata": {},
   "outputs": [
    {
     "data": {
      "text/plain": [
       "array([[58, 28, 80, 22,  6],\n",
       "       [86, 98, 79, 60, 35],\n",
       "       [97, 49, 61, 78, 66],\n",
       "       [ 1,  5, 84,  4, 32],\n",
       "       [32, 50, 81, 62, 47],\n",
       "       [22, 60, 25,  5, 91]])"
      ]
     },
     "execution_count": 39,
     "metadata": {},
     "output_type": "execute_result"
    }
   ],
   "source": [
    "a=ri(1,100,30)\n",
    "b=a.reshape(2,3,5)\n",
    "c=a.reshape(6,-19787)\n",
    "c"
   ]
  },
  {
   "cell_type": "code",
   "execution_count": 41,
   "id": "daf54116",
   "metadata": {},
   "outputs": [
    {
     "data": {
      "text/plain": [
       "array([32, 77, 62, 51, 51, 85, 14, 17, 86, 43])"
      ]
     },
     "execution_count": 41,
     "metadata": {},
     "output_type": "execute_result"
    }
   ],
   "source": [
    "A=ri(1,100,10)\n",
    "A"
   ]
  },
  {
   "cell_type": "code",
   "execution_count": 42,
   "id": "a9f5581e",
   "metadata": {},
   "outputs": [
    {
     "data": {
      "text/plain": [
       "array([14, 17, 32, 43, 51, 51, 62, 77, 85, 86])"
      ]
     },
     "execution_count": 42,
     "metadata": {},
     "output_type": "execute_result"
    }
   ],
   "source": [
    "np.sort(A)"
   ]
  },
  {
   "cell_type": "code",
   "execution_count": 66,
   "id": "09ae8273",
   "metadata": {},
   "outputs": [
    {
     "name": "stdout",
     "output_type": "stream",
     "text": [
      "unsorted matrix previously generated\n",
      " [[58 28 80 22  6]\n",
      " [86 98 79 60 35]\n",
      " [97 49 61 78 66]\n",
      " [ 1  5 84  4 32]\n",
      " [32 50 81 62 47]\n",
      " [22 60 25  5 91]] \n",
      "--------------------\n",
      "\n",
      "sorted matrix along column.\n",
      " [[ 1  5 25  4  6]\n",
      " [22 28 61  5 32]\n",
      " [32 49 79 22 35]\n",
      " [58 50 80 60 47]\n",
      " [86 60 81 62 66]\n",
      " [97 98 84 78 91]] \n",
      "\n",
      "sorted matrix along row.\n",
      " [[ 6 22 28 58 80]\n",
      " [35 60 79 86 98]\n",
      " [49 61 66 78 97]\n",
      " [ 1  4  5 32 84]\n",
      " [32 47 50 62 81]\n",
      " [ 5 22 25 60 91]]\n"
     ]
    }
   ],
   "source": [
    "print(\"unsorted matrix previously generated\\n\", c,\"\\n--------------------\\n\")\n",
    "print(\"sorted matrix along column.\\n\",np.sort(c,axis=0),\"\\n\")\n",
    "print(\"sorted matrix along row.\\n\",np.sort(c,axis=1))\n",
    "# axis=0 is a row and axis=1 is the column"
   ]
  },
  {
   "cell_type": "code",
   "execution_count": 71,
   "id": "33019875",
   "metadata": {},
   "outputs": [
    {
     "name": "stdout",
     "output_type": "stream",
     "text": [
      "Max value along the each column gives us the max row [97 98 84 78 91]\n",
      "and its location is [2 1 3 2 5]\n",
      "Max value along the each row gives us the max column [80 98 97 84 81 91]\n",
      "and its location is [2 1 0 2 2 4]\n",
      "The max of the matrix is 98\n",
      "Location of the max 6\n"
     ]
    }
   ],
   "source": [
    "print(\"Max value along the each column gives us the max row\",c.max(axis=0))\n",
    "print(\"and its location is\",c.argmax(axis=0))\n",
    "print(\"Max value along the each row gives us the max column\",c.max(axis=1))\n",
    "print(\"and its location is\",c.argmax(axis=1))\n",
    "\n",
    "print(\"The max of the matrix is\",c.max())\n",
    "print(\"Location of the max\",c.argmax())"
   ]
  },
  {
   "cell_type": "markdown",
   "id": "2181df08",
   "metadata": {},
   "source": [
    "### Indexing and Slicing"
   ]
  },
  {
   "cell_type": "code",
   "execution_count": 11,
   "id": "83da93a6",
   "metadata": {},
   "outputs": [
    {
     "data": {
      "text/plain": [
       "array([ 1,  2,  3,  4,  5,  6,  7,  8,  9, 10, 11, 12])"
      ]
     },
     "execution_count": 11,
     "metadata": {},
     "output_type": "execute_result"
    }
   ],
   "source": [
    "import numpy as np\n",
    "from numpy.random import randint as ri\n",
    "\n",
    "arr=np.arange(1,13)\n",
    "arr"
   ]
  },
  {
   "cell_type": "code",
   "execution_count": 12,
   "id": "d26fd160",
   "metadata": {},
   "outputs": [
    {
     "data": {
      "text/plain": [
       "array([[[ 1,  2,  3],\n",
       "        [ 4,  5,  6]],\n",
       "\n",
       "       [[ 7,  8,  9],\n",
       "        [10, 11, 12]]])"
      ]
     },
     "execution_count": 12,
     "metadata": {},
     "output_type": "execute_result"
    }
   ],
   "source": [
    "matt=arr.reshape(2,2,3)\n",
    "matt"
   ]
  },
  {
   "cell_type": "code",
   "execution_count": 13,
   "id": "9641e81a",
   "metadata": {},
   "outputs": [
    {
     "name": "stdout",
     "output_type": "stream",
     "text": [
      "[[1 2 3]\n",
      " [4 5 6]]\n",
      "[4 5 6]\n",
      "5\n"
     ]
    }
   ],
   "source": [
    "print(matt[0])\n",
    "print(matt[0][1])\n",
    "print(matt[0][1][1])"
   ]
  },
  {
   "cell_type": "code",
   "execution_count": 14,
   "id": "bcfa3527",
   "metadata": {},
   "outputs": [],
   "source": [
    "mat=np.array(ri(10,100,45)).reshape(3,5,3)"
   ]
  },
  {
   "cell_type": "code",
   "execution_count": 15,
   "id": "3ff6b9fb",
   "metadata": {},
   "outputs": [
    {
     "data": {
      "text/plain": [
       "array([[[16, 21, 91],\n",
       "        [15, 45, 48],\n",
       "        [58, 79, 54],\n",
       "        [20, 68, 50],\n",
       "        [40, 29, 63]],\n",
       "\n",
       "       [[12, 86, 21],\n",
       "        [63, 36, 38],\n",
       "        [83, 39, 39],\n",
       "        [40, 77, 26],\n",
       "        [42, 63, 62]],\n",
       "\n",
       "       [[30, 44, 64],\n",
       "        [51, 97, 54],\n",
       "        [29, 14, 69],\n",
       "        [16, 30, 88],\n",
       "        [25, 92, 79]]])"
      ]
     },
     "execution_count": 15,
     "metadata": {},
     "output_type": "execute_result"
    }
   ],
   "source": [
    "mat"
   ]
  },
  {
   "cell_type": "code",
   "execution_count": 25,
   "id": "67532cf2",
   "metadata": {},
   "outputs": [
    {
     "data": {
      "text/plain": [
       "array([20, 68, 50])"
      ]
     },
     "execution_count": 25,
     "metadata": {},
     "output_type": "execute_result"
    }
   ],
   "source": [
    "mat[0][3,:]"
   ]
  },
  {
   "cell_type": "code",
   "execution_count": 31,
   "id": "e15e758c",
   "metadata": {},
   "outputs": [
    {
     "data": {
      "text/plain": [
       "array([[16, 21, 91],\n",
       "       [15, 45, 48]])"
      ]
     },
     "execution_count": 31,
     "metadata": {},
     "output_type": "execute_result"
    }
   ],
   "source": [
    "mat1=mat[0][0:2,:]\n",
    "mat1"
   ]
  },
  {
   "cell_type": "code",
   "execution_count": 32,
   "id": "a774a35d",
   "metadata": {},
   "outputs": [
    {
     "data": {
      "text/plain": [
       "array([[12, 86, 21],\n",
       "       [63, 36, 38]])"
      ]
     },
     "execution_count": 32,
     "metadata": {},
     "output_type": "execute_result"
    }
   ],
   "source": [
    "mat2=mat[1][0:2,:]\n",
    "mat2"
   ]
  },
  {
   "cell_type": "code",
   "execution_count": 37,
   "id": "fa55071c",
   "metadata": {},
   "outputs": [
    {
     "data": {
      "text/plain": [
       "array([[30, 44],\n",
       "       [51, 97],\n",
       "       [29, 14]])"
      ]
     },
     "execution_count": 37,
     "metadata": {},
     "output_type": "execute_result"
    }
   ],
   "source": [
    "mat3=mat[2][0:3,0:2]\n",
    "mat3"
   ]
  },
  {
   "cell_type": "code",
   "execution_count": 38,
   "id": "57312133",
   "metadata": {},
   "outputs": [
    {
     "data": {
      "text/plain": [
       "array([[4190, 4015],\n",
       "       [4137, 5697]])"
      ]
     },
     "execution_count": 38,
     "metadata": {},
     "output_type": "execute_result"
    }
   ],
   "source": [
    "mat1@mat3 #matrix multiplication"
   ]
  },
  {
   "cell_type": "markdown",
   "id": "90c9c530",
   "metadata": {},
   "source": [
    "### Broadcasting\n"
   ]
  },
  {
   "cell_type": "code",
   "execution_count": 45,
   "id": "8c68f56c",
   "metadata": {},
   "outputs": [
    {
     "data": {
      "text/plain": [
       "array([[100., 100., 100., 100.],\n",
       "       [100., 100., 100., 100.],\n",
       "       [100., 100., 100., 100.],\n",
       "       [100., 100., 100., 100.]])"
      ]
     },
     "execution_count": 45,
     "metadata": {},
     "output_type": "execute_result"
    }
   ],
   "source": [
    "zrr=np.zeros((4,4))\n",
    "zrr+=100\n",
    "zrr"
   ]
  },
  {
   "cell_type": "code",
   "execution_count": 60,
   "id": "e881c6f3",
   "metadata": {},
   "outputs": [
    {
     "data": {
      "text/plain": [
       "array([[101., 102., 103., 104.],\n",
       "       [101., 102., 103., 104.],\n",
       "       [101., 102., 103., 104.],\n",
       "       [101., 102., 103., 104.]])"
      ]
     },
     "execution_count": 60,
     "metadata": {},
     "output_type": "execute_result"
    }
   ],
   "source": [
    "ro=np.array([1,2,3,4])\n",
    "roT=np.array([[1,2,3,4]]).T\n",
    "y=zrr+ro\n",
    "y"
   ]
  },
  {
   "cell_type": "code",
   "execution_count": 61,
   "id": "8cbb6e04",
   "metadata": {},
   "outputs": [
    {
     "data": {
      "text/plain": [
       "array([[1],\n",
       "       [2],\n",
       "       [3],\n",
       "       [4]])"
      ]
     },
     "execution_count": 61,
     "metadata": {},
     "output_type": "execute_result"
    }
   ],
   "source": [
    "roT"
   ]
  },
  {
   "cell_type": "code",
   "execution_count": 62,
   "id": "5484353e",
   "metadata": {},
   "outputs": [
    {
     "data": {
      "text/plain": [
       "array([[102., 103., 104., 105.],\n",
       "       [103., 104., 105., 106.],\n",
       "       [104., 105., 106., 107.],\n",
       "       [105., 106., 107., 108.]])"
      ]
     },
     "execution_count": 62,
     "metadata": {},
     "output_type": "execute_result"
    }
   ],
   "source": [
    "y+roT"
   ]
  },
  {
   "cell_type": "code",
   "execution_count": null,
   "id": "713c1e86",
   "metadata": {},
   "outputs": [],
   "source": []
  }
 ],
 "metadata": {
  "kernelspec": {
   "display_name": "Python 3 (ipykernel)",
   "language": "python",
   "name": "python3"
  },
  "language_info": {
   "codemirror_mode": {
    "name": "ipython",
    "version": 3
   },
   "file_extension": ".py",
   "mimetype": "text/x-python",
   "name": "python",
   "nbconvert_exporter": "python",
   "pygments_lexer": "ipython3",
   "version": "3.11.5"
  }
 },
 "nbformat": 4,
 "nbformat_minor": 5
}
